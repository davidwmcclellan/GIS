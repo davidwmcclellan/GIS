{
 "cells": [
  {
   "cell_type": "code",
   "execution_count": 1,
   "id": "8491b02e",
   "metadata": {},
   "outputs": [
    {
     "ename": "ModuleNotFoundError",
     "evalue": "No module named 'folium'",
     "output_type": "error",
     "traceback": [
      "\u001b[1;31m---------------------------------------------------------------------------\u001b[0m",
      "\u001b[1;31mModuleNotFoundError\u001b[0m                       Traceback (most recent call last)",
      "\u001b[1;32m<ipython-input-1-9a443b48c130>\u001b[0m in \u001b[0;36m<module>\u001b[1;34m\u001b[0m\n\u001b[1;32m----> 1\u001b[1;33m \u001b[1;32mimport\u001b[0m \u001b[0mfolium\u001b[0m\u001b[1;33m\u001b[0m\u001b[1;33m\u001b[0m\u001b[0m\n\u001b[0m\u001b[0;32m      2\u001b[0m \u001b[1;32mimport\u001b[0m \u001b[0mjson\u001b[0m\u001b[1;33m\u001b[0m\u001b[1;33m\u001b[0m\u001b[0m\n\u001b[0;32m      3\u001b[0m \u001b[1;32mimport\u001b[0m \u001b[0mos\u001b[0m\u001b[1;33m\u001b[0m\u001b[1;33m\u001b[0m\u001b[0m\n\u001b[0;32m      4\u001b[0m \u001b[1;32mimport\u001b[0m \u001b[0mpandas\u001b[0m \u001b[1;32mas\u001b[0m \u001b[0mpd\u001b[0m\u001b[1;33m\u001b[0m\u001b[1;33m\u001b[0m\u001b[0m\n\u001b[0;32m      5\u001b[0m \u001b[1;33m\u001b[0m\u001b[0m\n",
      "\u001b[1;31mModuleNotFoundError\u001b[0m: No module named 'folium'"
     ]
    }
   ],
   "source": [
    "import folium\n",
    "import json\n",
    "import os\n",
    "import pandas as pd\n",
    "\n",
    "# change this file path to match what's on your machine\n",
    "os.chdir(r'C:\\Users\\dwmcclellan\\OneDrive - Fort Lewis College\\0-Fall 2021\\GEOG-315\\Lab-13\\data')"
   ]
  },
  {
   "cell_type": "code",
   "execution_count": null,
   "id": "a1ce7ec0",
   "metadata": {},
   "outputs": [],
   "source": [
    "state_geo = \"gz_2010_us_040_00_500k.json\"\n",
    "state_populations = \"covid19_vaccinations_in_the_united_states.csv\"\n",
    "\n",
    "\n",
    "pop_data = pd.read_csv(state_populations)\n",
    "\n",
    "m = folium.Map(\n",
    "    location=[36.00, -95.00],\n",
    "    tiles=\"cartodbpositron\",\n",
    "    zoom_start=4,\n",
    ")\n",
    "\n",
    "folium.Choropleth(\n",
    "    geo_data=state_geo,\n",
    "    name=\"choropleth\",\n",
    "    data=pop_data,\n",
    "    columns=[\"state\", \"vaccinated\"],\n",
    "    key_on=\"feature.properties.NAME\",\n",
    "    fill_color=\"BuGn\",\n",
    "    fill_opacity=0.7,\n",
    "    line_opacity=0.2,\n",
    "    legend_name=\"Vaccinated (%)\",\n",
    ").add_to(m)\n",
    "\n",
    "m\n",
    "\n",
    "m.save(\"problem2-map.html\")"
   ]
  },
  {
   "cell_type": "code",
   "execution_count": null,
   "id": "e92c4133",
   "metadata": {},
   "outputs": [],
   "source": []
  }
 ],
 "metadata": {
  "kernelspec": {
   "display_name": "Python 3",
   "language": "python",
   "name": "python3"
  }
 },
 "nbformat": 4,
 "nbformat_minor": 5
}
