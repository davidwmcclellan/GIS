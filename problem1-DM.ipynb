{
 "cells": [
  {
   "cell_type": "code",
   "execution_count": 1,
   "metadata": {},
   "outputs": [],
   "source": [
    "import folium\n",
    "import json\n",
    "\n",
    "import os\n",
    "# Change this to wherever your lab 13 data folder is stored!\n",
    "os.chdir(r'C:\\Users\\dwmcclellan\\OneDrive - Fort Lewis College\\0-Fall 2021\\GEOG-315\\Lab-13\\data')"
   ]
  },
  {
   "cell_type": "code",
   "execution_count": null,
   "metadata": {},
   "outputs": [],
   "source": [
    "m = folium.Map(location=[36.00, -95.00], zoom_start = 4)\n",
    "# store the contents of the US Outline in a variable called us_outline\n",
    "us_outline = \"us-roads.geojson\"\n",
    "# store the contents of the US state borders in a variable called us_states\n",
    "us_states = \"gz_2010_us_040_00_500k.json\"\n",
    "\n",
    "# these two lines provide the outline and fill color for the US and state polygons\n",
    "# generate the # colors at https://www.hexcolortool.com/\n",
    "# #ffffff is transparent\n",
    "us_style = {'fillColor': '#ffffff', 'color': '#5c8736'}\n",
    "states_style = {'fillColor': '#61c26b', 'color': '#ffffff'}\n",
    "\n",
    "\n",
    "\n",
    "# first, plot up the states JSON file using the folium.GeoJSON command and the variable that stores the data\n",
    "# notice the style_function=lambda x:states_style (this specifies to use the states_style variable from above)\n",
    "folium.GeoJson(us_states, name=\"us states\", style_function=lambda x:states_style).add_to(m)\n",
    "# atop this, plot up the US outline JSON file using the folium.GeoJSON command and the variable that stores the data\n",
    "# notice the style_function=lambda x:us_style (this specifies to use the us_style variable from above)\n",
    "folium.GeoJson(us_outline, name=\"us outline\", style_function=lambda x:us_style).add_to(m)\n",
    "\n",
    "# note this line generates a table of contents!\n",
    "folium.LayerControl().add_to(m)\n",
    "\n",
    "\n",
    "m"
   ]
  },
  {
   "cell_type": "code",
   "execution_count": null,
   "metadata": {},
   "outputs": [],
   "source": []
  }
 ],
 "metadata": {
  "kernelspec": {
   "display_name": "Python 3",
   "language": "python",
   "name": "python3"
  },
  "language_info": {
   "codemirror_mode": {
    "name": "ipython",
    "version": 3
   },
   "file_extension": ".py",
   "mimetype": "text/x-python",
   "name": "python",
   "nbconvert_exporter": "python",
   "pygments_lexer": "ipython3",
   "version": "3.7.11"
  }
 },
 "nbformat": 4,
 "nbformat_minor": 4
}
