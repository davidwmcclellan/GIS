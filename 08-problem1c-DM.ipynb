{
 "cells": [
  {
   "cell_type": "code",
   "execution_count": 3,
   "metadata": {},
   "outputs": [],
   "source": [
    "import arcpy\n",
    "import csv\n",
    "import os\n",
    "\n",
    "folder = r'C:\\Users\\dwmcclellan\\OneDrive - Fort Lewis College\\0-Fall 2021\\GEOG-315\\Lab-8\\data'\n",
    "\n",
    "os.chdir(folder)\n",
    "arcpy.env.workspace = folder\n",
    "arcpy.env.OverwriteOutput = True\n",
    "\n",
    "input_filename = 'cities.shp'\n",
    "output_filename = 'big_cities1b.csv'\n",
    "fields = ['NAME', 'POPLASTCEN', 'POPLASTEST']\n",
    "where = '\"POPLASTEST\" > 100000'"
   ]
  },
  {
   "cell_type": "code",
   "execution_count": 5,
   "metadata": {},
   "outputs": [
    {
     "name": "stdout",
     "output_type": "stream",
     "text": [
      "('NAME', 'POPLASTCEN', 'POPLASTEST')\n",
      "('West Valley City', 108896, 122003)\n",
      "('Salt Lake City', 181743, 180086)\n",
      "('West Jordan', 68336, 108204)\n",
      "('Provo', 105166, 121330)\n"
     ]
    }
   ],
   "source": [
    "with arcpy.da.SearchCursor(in_table=input_filename, field_names=fields, \n",
    "                           where_clause = where) as searcher:\n",
    "    header = searcher.fields\n",
    "    print(header)\n",
    "for row in searcher:\n",
    "    print(row)\n",
    "\n",
    "fp = open(output_filename, 'wt', newline='')\n",
    "\n",
    "writer = csv.writer(fp)\n",
    "writer.writerow(header)\n",
    "\n",
    "searcher.reset()\n",
    "\n",
    "for row in searcher:\n",
    "    writer.writerow(row)\n",
    "    \n",
    "del fp, writer"
   ]
  },
  {
   "cell_type": "code",
   "execution_count": null,
   "metadata": {},
   "outputs": [],
   "source": []
  }
 ],
 "metadata": {
  "kernelspec": {
   "display_name": "Python 3",
   "language": "python",
   "name": "python3"
  },
  "language_info": {
   "codemirror_mode": {
    "name": "ipython",
    "version": 3
   },
   "file_extension": ".py",
   "mimetype": "text/x-python",
   "name": "python",
   "nbconvert_exporter": "python",
   "pygments_lexer": "ipython3",
   "version": "3.7.10"
  }
 },
 "nbformat": 4,
 "nbformat_minor": 4
}
