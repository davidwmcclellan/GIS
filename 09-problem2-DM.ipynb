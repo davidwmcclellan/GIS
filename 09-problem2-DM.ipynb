{
 "cells": [
  {
   "cell_type": "code",
   "execution_count": 17,
   "metadata": {},
   "outputs": [],
   "source": [
    "import arcpy\n",
    "import os\n",
    "\n",
    "station_filename = r'C:\\Users\\dwmcclellan\\OneDrive - Fort Lewis College\\0-Fall 2021\\GEOG-315\\Lab-9\\data\\WeatherStations.shp'\n",
    "output_filename = r'C:\\Users\\dwmcclellan\\OneDrive - Fort Lewis College\\0-Fall 2021\\GEOG-315\\Lab-9\\data\\gse.shp'\n",
    "network = 'gse'\n",
    "where = '\"NETWORK_\" = \\'{}\\''.format(network.upper())\n",
    "\n",
    "# included to overwrite and rerun notebook\n",
    "arcpy.env.overwriteOutput = True\n"
   ]
  },
  {
   "cell_type": "code",
   "execution_count": 18,
   "metadata": {},
   "outputs": [
    {
     "name": "stdout",
     "output_type": "stream",
     "text": [
      "C:\\Users\\dwmcclellan\\OneDrive - Fort Lewis College\\0-Fall 2021\\GEOG-315\\Lab-9\\data\n",
      "gse.shp\n"
     ]
    }
   ],
   "source": [
    "# Split output_filename into folder and filename\n",
    "folder, filename = os.path.split(output_filename)\n",
    "print(folder)\n",
    "print(filename)"
   ]
  },
  {
   "cell_type": "code",
   "execution_count": 20,
   "metadata": {},
   "outputs": [],
   "source": [
    "# create the function using code from Problem 1\n",
    "def extract_stations(station_filename, output_filename, network):\n",
    "    arcpy.MakeFeatureLayer_management(station_filename, 'stations')\n",
    "    arcpy.SelectLayerByAttribute_management('stations', 'NEW_SELECTION', where)\n",
    "    arcpy.FeatureClassToFeatureClass_conversion('stations', folder, filename)\n",
    "    return arcpy.GetCount_management(output_filename)"
   ]
  },
  {
   "cell_type": "code",
   "execution_count": 22,
   "metadata": {},
   "outputs": [
    {
     "data": {
      "text/html": [
       "<h2>Output</h2>19<h2>Messages</h2>Start Time: Thursday, November 4, 2021 12:00:40 PM<br/>Row Count = 19<br/>Succeeded at Thursday, November 4, 2021 12:00:40 PM (Elapsed Time: 0.01 seconds)<br/><style>.rendered_html td, .rendered_html th {text-align: left;}.rendered_html tbody {border: 1px solid black;}</style>"
      ],
      "text/plain": [
       "<Result '19'>"
      ]
     },
     "execution_count": 22,
     "metadata": {},
     "output_type": "execute_result"
    }
   ],
   "source": [
    "# Call the function you created using the correct variables\n",
    "extract_stations(station_filename, output_filename, network)"
   ]
  },
  {
   "cell_type": "code",
   "execution_count": null,
   "metadata": {},
   "outputs": [],
   "source": []
  }
 ],
 "metadata": {
  "kernelspec": {
   "display_name": "Python 3",
   "language": "python",
   "name": "python3"
  },
  "language_info": {
   "codemirror_mode": {
    "name": "ipython",
    "version": 3
   },
   "file_extension": ".py",
   "mimetype": "text/x-python",
   "name": "python",
   "nbconvert_exporter": "python",
   "pygments_lexer": "ipython3",
   "version": "3.7.10"
  }
 },
 "nbformat": 4,
 "nbformat_minor": 4
}
