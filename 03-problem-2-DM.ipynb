{
 "cells": [
  {
   "cell_type": "code",
   "execution_count": 6,
   "metadata": {},
   "outputs": [
    {
     "name": "stdout",
     "output_type": "stream",
     "text": [
      "Durango is a wonderful place to be! The average high temperature is 60.67 deg. F. The average low\n",
      "temperature is 28 deg. F. The hottest monthly temperature is 86 and the coldest monthly temperature is 13\n"
     ]
    }
   ],
   "source": [
    "import math\n",
    "import statistics\n",
    "CITYNAME = 'Durango'\n",
    "highs = [41, 47, 55, 62, 73, 86]\n",
    "AVERAGE_HIGHS = statistics.mean(highs)\n",
    "AVERAGE_HIGH2 = round(AVERAGE_HIGHS, 2)\n",
    "AVERAGE_HIGH = str(AVERAGE_HIGH2)\n",
    "lows = [13, 19, 24, 31, 37, 44]\n",
    "AVERAGE_LOWS = statistics.mean(lows)\n",
    "AVERAGE_LOW = str(AVERAGE_LOWS)\n",
    "MAX_HIGHS = max(highs)\n",
    "MAX_HIGH = str(MAX_HIGHS)\n",
    "MIN_LOWS = min(lows)\n",
    "MIN_LOW = str(MIN_LOWS)\n",
    "weather = CITYNAME + \" is a wonderful place to be! The average high temperature is \" + AVERAGE_HIGH + \" deg. F. The average low\\ntemperature is \" + AVERAGE_LOW + \" deg. F. The hottest monthly temperature is \" + MAX_HIGH + \" and the coldest monthly temperature is \" + MIN_LOW\n",
    "print(weather)"
   ]
  },
  {
   "cell_type": "code",
   "execution_count": null,
   "metadata": {},
   "outputs": [],
   "source": []
  }
 ],
 "metadata": {
  "kernelspec": {
   "display_name": "Python 3",
   "language": "python",
   "name": "python3"
  },
  "language_info": {
   "codemirror_mode": {
    "name": "ipython",
    "version": 3
   },
   "file_extension": ".py",
   "mimetype": "text/x-python",
   "name": "python",
   "nbconvert_exporter": "python",
   "pygments_lexer": "ipython3",
   "version": "3.7.10"
  }
 },
 "nbformat": 4,
 "nbformat_minor": 4
}
