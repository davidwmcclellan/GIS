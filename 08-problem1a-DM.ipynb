{
 "cells": [
  {
   "cell_type": "code",
   "execution_count": 4,
   "metadata": {},
   "outputs": [],
   "source": [
    "import arcpy\n",
    "import csv\n",
    "import os\n",
    "\n",
    "folder = r'C:\\Users\\dwmcclellan\\OneDrive - Fort Lewis College\\0-Fall 2021\\GEOG-315\\Lab-8\\data'\n",
    "\n",
    "os.chdir(folder)\n",
    "arcpy.env.workspace = folder\n",
    "arcpy.env.OverwriteOutput = True\n",
    "\n",
    "input_filename = 'cities.shp'\n",
    "output_filename = 'cities1a.csv'\n",
    "where = None\n"
   ]
  },
  {
   "cell_type": "code",
   "execution_count": 7,
   "metadata": {},
   "outputs": [
    {
     "name": "stdout",
     "output_type": "stream",
     "text": [
      "('NAME', 'POPLASTCEN', 'POPLASTEST')\n",
      "('Beaver', 2454, 2904)\n",
      "('Brigham City', 17411, 20055)\n",
      "('Logan', 42670, 52776)\n",
      "('Manila', 308, 316)\n",
      "('Farmington', 12081, 16312)\n",
      "('Castle Dale', 1657, 1658)\n",
      "('Panguitch', 1623, 1585)\n",
      "('Moab', 4779, 5237)\n",
      "('Nephi', 4733, 5879)\n",
      "('Parowan', 2565, 2971)\n",
      "('Kanab', 3564, 4111)\n",
      "('Morgan', 2635, 3695)\n",
      "('Junction', 177, 166)\n",
      "('Coalville', 1382, 1587)\n",
      "('Salt Lake City', 181743, 180086)\n",
      "('Monticello', 1958, 1975)\n",
      "('Manti', 3040, 3397)\n",
      "('Richfield', 6847, 7553)\n",
      "('Tooele', 22502, 34205)\n",
      "('Vernal', 7714, 9232)\n",
      "('Loa', 525, 548)\n",
      "('Ogden', 77226, 82522)\n",
      "('Saint George', 49663, 84245)\n",
      "('Price', 8402, 8344)\n",
      "('Provo', 105166, 121330)\n",
      "('Heber City', 7291, 11584)\n",
      "('Duchesne', 1408, 1676)\n",
      "('Randolph', 483, 489)\n",
      "('Fillmore', 2253, 2309)\n"
     ]
    }
   ],
   "source": [
    "with arcpy.da.SearchCursor(in_table=input_filename, field_names=['NAME', 'POPLASTCEN', 'POPLASTEST'], \n",
    "                           where_clause='\"COUNTYSEAT\" = 1') as searcher:\n",
    "    header = searcher.fields\n",
    "    print(header)\n",
    "for row in searcher:\n",
    "    print(row)\n",
    "\n",
    "fp = open(output_filename, 'wt', newline='')\n",
    "\n",
    "writer = csv.writer(fp)\n",
    "writer.writerow(header)\n",
    "\n",
    "searcher.reset()\n",
    "\n",
    "for row in searcher:\n",
    "    writer.writerow(row)\n",
    "    \n",
    "del fp, writer\n"
   ]
  },
  {
   "cell_type": "code",
   "execution_count": null,
   "metadata": {},
   "outputs": [],
   "source": []
  }
 ],
 "metadata": {
  "kernelspec": {
   "display_name": "Python 3",
   "language": "python",
   "name": "python3"
  },
  "language_info": {
   "codemirror_mode": {
    "name": "ipython",
    "version": 3
   },
   "file_extension": ".py",
   "mimetype": "text/x-python",
   "name": "python",
   "nbconvert_exporter": "python",
   "pygments_lexer": "ipython3",
   "version": "3.7.10"
  }
 },
 "nbformat": 4,
 "nbformat_minor": 4
}
