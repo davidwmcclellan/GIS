{
 "cells": [
  {
   "cell_type": "code",
   "execution_count": 3,
   "metadata": {},
   "outputs": [],
   "source": [
    "x = 37\n",
    "cutoff = 0.4\n",
    "count = 8"
   ]
  },
  {
   "cell_type": "code",
   "execution_count": 4,
   "metadata": {},
   "outputs": [
    {
     "name": "stdout",
     "output_type": "stream",
     "text": [
      "[0.6820045605879779, 0.6178163488614024, 0.8419199045509562, 0.8345502885760898, 0.5150177257913494, 0.6310379652956766, 0.5280186220192247, 0.6829499338332965]\n"
     ]
    }
   ],
   "source": [
    "import random\n",
    "random.seed(x)\n",
    "\n",
    "random_list = []\n",
    "\n",
    "while len(random_list) < count:\n",
    "    y = random.random()\n",
    "    if y > cutoff:\n",
    "        random_list.append(y)\n",
    "print(random_list)"
   ]
  }
 ],
 "metadata": {
  "kernelspec": {
   "display_name": "Python 3",
   "language": "python",
   "name": "python3"
  },
  "language_info": {
   "codemirror_mode": {
    "name": "ipython",
    "version": 3
   },
   "file_extension": ".py",
   "mimetype": "text/x-python",
   "name": "python",
   "nbconvert_exporter": "python",
   "pygments_lexer": "ipython3",
   "version": "3.7.11"
  }
 },
 "nbformat": 4,
 "nbformat_minor": 4
}
