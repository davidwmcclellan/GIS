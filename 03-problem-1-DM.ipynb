{
 "cells": [
  {
   "cell_type": "code",
   "execution_count": 28,
   "metadata": {},
   "outputs": [
    {
     "name": "stdout",
     "output_type": "stream",
     "text": [
      "I would like exactly 146cc’s of your finest joe.\n"
     ]
    }
   ],
   "source": [
    "import math\n",
    "height = float(\"6.5\")\n",
    "radius = float(\"3.5\")\n",
    "height_cm = height * 2.54\n",
    "radius_cm = radius * 2.54\n",
    "x = height_cm * radius_cm\n",
    "mug_volume = math.floor(x)\n",
    "mug_volume = str(mug_volume)\n",
    "print(\"I would like exactly \" + mug_volume + \"cc’s of your finest joe.\")\n"
   ]
  }
 ],
 "metadata": {
  "kernelspec": {
   "display_name": "Python 3",
   "language": "python",
   "name": "python3"
  },
  "language_info": {
   "codemirror_mode": {
    "name": "ipython",
    "version": 3
   },
   "file_extension": ".py",
   "mimetype": "text/x-python",
   "name": "python",
   "nbconvert_exporter": "python",
   "pygments_lexer": "ipython3",
   "version": "3.7.10"
  }
 },
 "nbformat": 4,
 "nbformat_minor": 4
}
