{
 "cells": [
  {
   "cell_type": "markdown",
   "metadata": {},
   "source": [
    "### Cell 1:\n",
    "Define file and folder paths; change the `folder` path to match the location of the `data` folder on your computer. Don't change anything else in here!"
   ]
  },
  {
   "cell_type": "code",
   "execution_count": 1,
   "metadata": {},
   "outputs": [],
   "source": [
    "# set this path to match the location of your data folder\n",
    "# this is the ONLY thing you should change in this cell\n",
    "folder = r'C:\\Users\\dwmcclellan\\OneDrive - Fort Lewis College\\0-Fall 2021\\GEOG-315\\Final_Project\\geog-315-final-project\\data'\n",
    "\n",
    "# input digital elevation model\n",
    "dem = 'johnday_dem.tif'\n",
    "\n",
    "# output files that your code will produce\n",
    "sample_sites = 'SampleSites.shp'\n",
    "watersheds_poly = 'SampleSiteWatersheds.shp'\n",
    "output_plot = folder  + r'\\rainbow_trout.pdf'"
   ]
  },
  {
   "cell_type": "markdown",
   "metadata": {},
   "source": [
    "### Cell 2:\n",
    "Import the modules we'll need and specify environment variables. You shouldn't need to change anything in here."
   ]
  },
  {
   "cell_type": "code",
   "execution_count": 2,
   "metadata": {},
   "outputs": [
    {
     "data": {
      "text/plain": [
       "'CheckedOut'"
      ]
     },
     "execution_count": 2,
     "metadata": {},
     "output_type": "execute_result"
    }
   ],
   "source": [
    "# Cell 2\n",
    "\n",
    "# bring in the modules we need\n",
    "import arcpy\n",
    "import matplotlib.pyplot as plt\n",
    "%matplotlib inline\n",
    "\n",
    "# specify environment variables\n",
    "arcpy.env.overwriteOutput = True\n",
    "arcpy.env.workspace = folder\n",
    "\n",
    "# Check out spatial analyst extension\n",
    "arcpy.CheckOutExtension('spatial')"
   ]
  },
  {
   "cell_type": "markdown",
   "metadata": {},
   "source": [
    "### Cell 3:\n",
    "Produce a list of all the shapefiles in the `data` folder."
   ]
  },
  {
   "cell_type": "code",
   "execution_count": 14,
   "metadata": {},
   "outputs": [],
   "source": [
    "shplist =  arcpy.ListFeatureClasses('*.shp')"
   ]
  },
  {
   "cell_type": "markdown",
   "metadata": {},
   "source": [
    "### Cell 4:\n",
    "Merge all of the shapefiles in the `data` folder together."
   ]
  },
  {
   "cell_type": "code",
   "execution_count": 17,
   "metadata": {},
   "outputs": [
    {
     "data": {
      "text/html": [
       "<h2>Output</h2>C:\\Users\\dwmcclellan\\OneDrive - Fort Lewis College\\0-Fall 2021\\GEOG-315\\Final_Project\\geog-315-final-project\\data\\SampleSites.shp<h2>Messages</h2>Start Time: Monday, December 13, 2021 4:05:27 PM<br/>Succeeded at Monday, December 13, 2021 4:05:28 PM (Elapsed Time: 0.93 seconds)<br/><style>.rendered_html td, .rendered_html th {text-align: left;}.rendered_html tbody {border: 1px solid black;}</style>"
      ],
      "text/plain": [
       "<Result 'C:\\\\Users\\\\dwmcclellan\\\\OneDrive - Fort Lewis College\\\\0-Fall 2021\\\\GEOG-315\\\\Final_Project\\\\geog-315-final-project\\\\data\\\\SampleSites.shp'>"
      ]
     },
     "execution_count": 17,
     "metadata": {},
     "output_type": "execute_result"
    }
   ],
   "source": [
    "import os\n",
    "arcpy.Merge_management(shplist, os.path.join(sample_sites))"
   ]
  },
  {
   "cell_type": "markdown",
   "metadata": {},
   "source": [
    "### Cell 5:\n",
    "Produce and save a bar plot that shows the number of rainbow trout per reach."
   ]
  },
  {
   "cell_type": "code",
   "execution_count": 22,
   "metadata": {},
   "outputs": [
    {
     "data": {
      "image/png": "[encoded data removed]",
      "text/plain": [
       "<Figure size 432x288 with 1 Axes>"
      ]
     },
     "metadata": {
      "needs_background": "light"
     },
     "output_type": "display_data"
    }
   ],
   "source": [
    "# Read the data from the shapefile.\n",
    "x, y = zip(*arcpy.da.SearchCursor(\"SampleSites.shp\", ['REACH', 'RT'])) \n",
    "\n",
    "plt.bar(x, y)\n",
    "\n",
    "plt.savefig(output_plot, transparent=True)"
   ]
  },
  {
   "cell_type": "markdown",
   "metadata": {},
   "source": [
    "### Cell 6:\n",
    "Derive the upstream watershed for each of the `sample_sites`."
   ]
  },
  {
   "cell_type": "code",
   "execution_count": 28,
   "metadata": {},
   "outputs": [],
   "source": [
    "from arcpy import env\n",
    "from arcpy.sa import *\n",
    "\n",
    "snap_distance = 20\n",
    "\n",
    "# 1 fill small sinks and depressions in the DEM specified by the variable 'dem'\n",
    "fill = arcpy.sa.Fill(dem)\n",
    "\n",
    "#2 run flow direction\n",
    "# Create a flow direction raster from the DEM.\n",
    "flow_dir = arcpy.sa.FlowDirection(fill)\n",
    "\n",
    "#3 run flow accumulation\n",
    "# Use the flow direction raster to create an accumulation raster.\n",
    "accumulation = arcpy.sa.FlowAccumulation(flow_dir)\n",
    "\n",
    "#4 run snap pour point\n",
    "snap = arcpy.sa.SnapPourPoint(flow_dir, accumulation, snap_distance)\n",
    "\n",
    "#5 run watershed tool using flow direction and result of snap pour point\n",
    "watershed = Watershed(flow_dir, snap)"
   ]
  },
  {
   "cell_type": "markdown",
   "metadata": {},
   "source": [
    "### Cell 7:\n",
    "Convert the raster output of the `Watershed` tool to a polygon shapefile."
   ]
  },
  {
   "cell_type": "code",
   "execution_count": 30,
   "metadata": {},
   "outputs": [
    {
     "data": {
      "text/html": [
       "<h2>Output</h2>C:\\Users\\dwmcclellan\\OneDrive - Fort Lewis College\\0-Fall 2021\\GEOG-315\\Final_Project\\geog-315-final-project\\data\\SampleSiteWatersheds.shp<h2>Messages</h2>Start Time: Monday, December 13, 2021 5:28:10 PM<br/>Succeeded at Monday, December 13, 2021 5:29:36 PM (Elapsed Time: 1 minutes 25 seconds)<br/><style>.rendered_html td, .rendered_html th {text-align: left;}.rendered_html tbody {border: 1px solid black;}</style>"
      ],
      "text/plain": [
       "<Result 'C:\\\\Users\\\\dwmcclellan\\\\OneDrive - Fort Lewis College\\\\0-Fall 2021\\\\GEOG-315\\\\Final_Project\\\\geog-315-final-project\\\\data\\\\SampleSiteWatersheds.shp'>"
      ]
     },
     "execution_count": 30,
     "metadata": {},
     "output_type": "execute_result"
    }
   ],
   "source": [
    "arcpy.conversion.RasterToPolygon(watershed, watersheds_poly)\n",
    "# watershed.save(watersheds_poly)"
   ]
  }
 ],
 "metadata": {
  "kernelspec": {
   "display_name": "Python 3",
   "language": "python",
   "name": "python3"
  },
  "language_info": {
   "codemirror_mode": {
    "name": "ipython",
    "version": 3
   },
   "file_extension": ".py",
   "mimetype": "text/x-python",
   "name": "python",
   "nbconvert_exporter": "python",
   "pygments_lexer": "ipython3",
   "version": "3.7.11"
  }
 },
 "nbformat": 4,
 "nbformat_minor": 4
}
