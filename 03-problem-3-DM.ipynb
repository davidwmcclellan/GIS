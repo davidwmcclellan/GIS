{
 "cells": [
  {
   "cell_type": "code",
   "execution_count": 137,
   "metadata": {},
   "outputs": [
    {
     "name": "stdout",
     "output_type": "stream",
     "text": [
      "I am having so much fun right now!\n"
     ]
    }
   ],
   "source": [
    "characters = ['!', '.', 'w', '.', 'o', '.', 'n', '.', '|', '.', 't', '.', 'h', '.', 'g', '.', 'i', '.', 'r', '.', '|', '.', 'n', '.', 'u', '.', 'f', '.', '|', '.', 'e', '.', 'l', '.', 't', '.', 't', '.', 'i', '.', 'l', '.', '|', '.', 'o', '.', 's', '.', '|', '.', 'g', '.', 'n', '.', 'i', '.', 'v', '.', 'a', '.', 'h', '.', '|', '.', 'm', '.', 'a', '.', '|', '.', 'I']\n",
    "characters.reverse()\n",
    "char_join = \"\".join(characters)\n",
    "char_remove = char_join.replace(\".\", \"\")\n",
    "char_split = char_remove.split('|')\n",
    "char_much = char_split.pop(4)\n",
    "char_split.insert(4, \"much\")\n",
    "char_joined = \" \".join(char_split)\n",
    "print(char_joined)"
   ]
  }
 ],
 "metadata": {
  "kernelspec": {
   "display_name": "Python 3",
   "language": "python",
   "name": "python3"
  },
  "language_info": {
   "codemirror_mode": {
    "name": "ipython",
    "version": 3
   },
   "file_extension": ".py",
   "mimetype": "text/x-python",
   "name": "python",
   "nbconvert_exporter": "python",
   "pygments_lexer": "ipython3",
   "version": "3.7.10"
  }
 },
 "nbformat": 4,
 "nbformat_minor": 4
}
