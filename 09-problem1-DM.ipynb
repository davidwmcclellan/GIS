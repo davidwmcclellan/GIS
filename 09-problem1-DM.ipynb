{
 "cells": [
  {
   "cell_type": "code",
   "execution_count": 1,
   "metadata": {},
   "outputs": [],
   "source": [
    "import arcpy\n",
    "import os\n",
    "\n",
    "station_filename = r'C:\\Users\\dwmcclellan\\OneDrive - Fort Lewis College\\0-Fall 2021\\GEOG-315\\Lab-9\\data\\WeatherStations.shp'\n",
    "output_filename = r'C:\\Users\\dwmcclellan\\OneDrive - Fort Lewis College\\0-Fall 2021\\GEOG-315\\Lab-9\\data\\snotel.shp'\n",
    "network = 'snotel'\n",
    "where = '\"NETWORK_\" = \\'{}\\''.format(network.upper())"
   ]
  },
  {
   "cell_type": "code",
   "execution_count": 2,
   "metadata": {},
   "outputs": [
    {
     "name": "stdout",
     "output_type": "stream",
     "text": [
      "C:\\Users\\dwmcclellan\\OneDrive - Fort Lewis College\\0-Fall 2021\\GEOG-315\\Lab-9\\data\n",
      "snotel.shp\n"
     ]
    }
   ],
   "source": [
    "# Split output_filename into folder and filename\n",
    "folder, filename = os.path.split(output_filename)\n",
    "print(folder)\n",
    "print(filename)"
   ]
  },
  {
   "cell_type": "code",
   "execution_count": 3,
   "metadata": {},
   "outputs": [
    {
     "data": {
      "text/html": [
       "<h2>Output</h2>a Layer object<h2>Messages</h2>Start Time: Tuesday, November 2, 2021 7:18:47 PM<br/>Succeeded at Tuesday, November 2, 2021 7:18:47 PM (Elapsed Time: 0.03 seconds)<br/><style>.rendered_html td, .rendered_html th {text-align: left;}.rendered_html tbody {border: 1px solid black;}</style>"
      ],
      "text/plain": [
       "<Result 'C:\\\\Users\\\\dwmcclellan\\\\OneDrive - Fort Lewis College\\\\0-Fall 2021\\\\GEOG-315\\\\Lab-9\\\\data\\\\snotel.shp'>"
      ]
     },
     "execution_count": 3,
     "metadata": {},
     "output_type": "execute_result"
    }
   ],
   "source": [
    "# select the layer\n",
    "arcpy.MakeFeatureLayer_management(station_filename, output_filename)"
   ]
  },
  {
   "cell_type": "code",
   "execution_count": 4,
   "metadata": {},
   "outputs": [
    {
     "data": {
      "text/html": [
       "<h2>Output</h2><table><tr><th>id</th><th>value</th></tr><tr><td>0</td><td>a Layer object</td></tr><tr><td>1</td><td>88</td></tr></table><h2>Messages</h2>Start Time: Tuesday, November 2, 2021 7:18:47 PM<br/>Succeeded at Tuesday, November 2, 2021 7:18:47 PM (Elapsed Time: 0.08 seconds)<br/><style>.rendered_html td, .rendered_html th {text-align: left;}.rendered_html tbody {border: 1px solid black;}</style>"
      ],
      "text/plain": [
       "<Result 'C:\\\\Users\\\\dwmcclellan\\\\OneDrive - Fort Lewis College\\\\0-Fall 2021\\\\GEOG-315\\\\Lab-9\\\\data\\\\snotel.shp'>"
      ]
     },
     "execution_count": 4,
     "metadata": {},
     "output_type": "execute_result"
    }
   ],
   "source": [
    "# Select the layers feature class\n",
    "arcpy.SelectLayerByAttribute_management(output_filename, 'NEW_SELECTION', where)"
   ]
  },
  {
   "cell_type": "code",
   "execution_count": 17,
   "metadata": {},
   "outputs": [
    {
     "data": {
      "text/html": [
       "<h2>Output</h2>C:\\Users\\dwmcclellan\\OneDrive - Fort Lewis College\\0-Fall 2021\\GEOG-315\\Lab-9\\data\\snotel.shp<h2>Messages</h2>Start Time: Tuesday, November 2, 2021 7:36:47 PM<br/>Succeeded at Tuesday, November 2, 2021 7:36:48 PM (Elapsed Time: 0.50 seconds)<br/><style>.rendered_html td, .rendered_html th {text-align: left;}.rendered_html tbody {border: 1px solid black;}</style>"
      ],
      "text/plain": [
       "<Result 'C:\\\\Users\\\\dwmcclellan\\\\OneDrive - Fort Lewis College\\\\0-Fall 2021\\\\GEOG-315\\\\Lab-9\\\\data\\\\snotel.shp'>"
      ]
     },
     "execution_count": 17,
     "metadata": {},
     "output_type": "execute_result"
    }
   ],
   "source": [
    "arcpy.GetCount_management(output_filename)\n",
    "# Save to file the new selected feature class\n",
    "arcpy.FeatureClassToFeatureClass_conversion(output_filename, folder, filename)"
   ]
  },
  {
   "cell_type": "code",
   "execution_count": null,
   "metadata": {},
   "outputs": [],
   "source": []
  }
 ],
 "metadata": {
  "kernelspec": {
   "display_name": "Python 3",
   "language": "python",
   "name": "python3"
  },
  "language_info": {
   "codemirror_mode": {
    "name": "ipython",
    "version": 3
   },
   "file_extension": ".py",
   "mimetype": "text/x-python",
   "name": "python",
   "nbconvert_exporter": "python",
   "pygments_lexer": "ipython3",
   "version": "3.7.10"
  }
 },
 "nbformat": 4,
 "nbformat_minor": 4
}
