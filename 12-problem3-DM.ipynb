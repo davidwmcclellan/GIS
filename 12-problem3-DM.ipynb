{
 "cells": [
  {
   "cell_type": "code",
   "execution_count": 2,
   "metadata": {},
   "outputs": [],
   "source": [
    "table_filename = r'C:\\Users\\dwmcclellan\\OneDrive - Fort Lewis College\\0-Fall 2021\\GEOG-315\\Lab-12\\data\\co_counties.shp'\n",
    "# note that the plot will be produced as a PDF this time\n",
    "plot_filename = r'C:\\Users\\dwmcclellan\\OneDrive - Fort Lewis College\\0-Fall 2021\\GEOG-315\\Lab-12\\data\\problem3.pdf'\n",
    "\n",
    "x_field = 'CENT_LONG'\n",
    "y_field = 'CENT_LAT'\n",
    "pop_field = 'POPULATION'"
   ]
  },
  {
   "cell_type": "code",
   "execution_count": 3,
   "metadata": {},
   "outputs": [],
   "source": [
    "# CHANGE THIS TO POINT TO YOUR WEEK 12 DATA FOLDER.\n",
    "data_folder = r'C:\\Users\\dwmcclellan\\OneDrive - Fort Lewis College\\0-Fall 2021\\GEOG-315\\Lab-12\\data'"
   ]
  },
  {
   "cell_type": "code",
   "execution_count": 36,
   "metadata": {},
   "outputs": [],
   "source": [
    "import os\n",
    "import matplotlib.pyplot as plt\n",
    "import arcpy\n",
    "import numpy as np\n",
    "\n",
    "# Change the Python working directory.\n",
    "os.chdir(data_folder)\n",
    "\n",
    "# Set up matplotlib to draw in the notebook.\n",
    "%matplotlib inline"
   ]
  },
  {
   "cell_type": "code",
   "execution_count": 47,
   "metadata": {},
   "outputs": [],
   "source": [
    "# Create empty lists to hold the data\n",
    "long = []\n",
    "lat = []\n",
    "pop = []"
   ]
  },
  {
   "cell_type": "code",
   "execution_count": 64,
   "metadata": {},
   "outputs": [
    {
     "data": {
      "image/png": "[encoded data removed]",
      "text/plain": [
       "<Figure size 432x288 with 1 Axes>"
      ]
     },
     "metadata": {
      "needs_background": "light"
     },
     "output_type": "display_data"
    }
   ],
   "source": [
    "with arcpy.da.SearchCursor(table_filename, [x_field, y_field, pop_field]) as searcher:\n",
    "    \n",
    "     # Loop through the rows in the search cursor\n",
    "    for row in searcher:\n",
    "        \n",
    "        # Append the first value in the row (long) to the estimate variable\n",
    "        long.append(row[0])\n",
    "        \n",
    "        # Append the second value in the row (lat) to the census variable\n",
    "        lat.append(row[1])\n",
    "        \n",
    "         # Append the third value in the row (pop) to the census variable\n",
    "        pop.append(row[2])\n",
    "\n",
    "# # Add titles.\n",
    "plt.title('Problem 3')\n",
    "plt.xlabel('Longitude')\n",
    "plt.ylabel('Latitude')\n",
    "\n",
    "x = long\n",
    "y = lat\n",
    "colors = 'b'\n",
    "area = pop \n",
    "\n",
    "dotsize = [number / max(pop) * 200 for number in pop]\n",
    "\n",
    "plt.savefig(plot_filename)\n",
    "plt.scatter(long, lat, dotsize)\n",
    "plt.savefig(plot_filename)\n",
    "plt.show()"
   ]
  }
 ],
 "metadata": {
  "kernelspec": {
   "display_name": "Python 3",
   "language": "python",
   "name": "python3"
  },
  "language_info": {
   "codemirror_mode": {
    "name": "ipython",
    "version": 3
   },
   "file_extension": ".py",
   "mimetype": "text/x-python",
   "name": "python",
   "nbconvert_exporter": "python",
   "pygments_lexer": "ipython3",
   "version": "3.7.11"
  }
 },
 "nbformat": 4,
 "nbformat_minor": 4
}
