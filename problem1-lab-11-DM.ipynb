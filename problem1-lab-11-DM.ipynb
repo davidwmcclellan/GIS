{
 "cells": [
  {
   "cell_type": "code",
   "execution_count": 17,
   "metadata": {},
   "outputs": [],
   "source": [
    "import matplotlib.pyplot as plt\n",
    "import arcpy\n",
    "arcpy.env.overwriteOutput = True\n",
    "arcpy.CheckOutExtension('spatial')\n",
    "dem = r'C:\\Users\\dwmcclellan\\OneDrive - Fort Lewis College\\0-Fall 2021\\GEOG-315\\Lab-11\\geog-315-lab-11\\data\\cach_ned10_clip_int.img'\n",
    "flow_accum_raster = r'C:\\Users\\dwmcclellan\\OneDrive - Fort Lewis College\\0-Fall 2021\\GEOG-315\\Lab-11\\geog-315-lab-11\\data\\accumulation.tif'\n",
    "flow_acuum_plot = r'C:\\Users\\dwmcclellan\\OneDrive - Fort Lewis College\\0-Fall 2021\\GEOG-315\\Lab-11\\geog-315-lab-11\\data\\flow_plot_accumulation.png'\n",
    "cutoff = 1000\n",
    "\n",
    "flow_dir = arcpy.sa.FlowDirection(dem)\n",
    "\n",
    "accumulation = arcpy.sa.FlowAccumulation(flow_dir)\n",
    "accumulation.save(flow_accum_raster)"
   ]
  },
  {
   "cell_type": "code",
   "execution_count": 18,
   "metadata": {},
   "outputs": [
    {
     "name": "stdout",
     "output_type": "stream",
     "text": [
      "min: 0.0\n",
      "max: 486496.0\n",
      "mean 299.03716820816\n",
      "stddev: 6067.042325054\n"
     ]
    }
   ],
   "source": [
    "# 4.1 Get statistics about the cell values.\n",
    "print('min:', accumulation.minimum)\n",
    "print('max:', accumulation.maximum)\n",
    "print('mean', accumulation.mean)\n",
    "print('stddev:', accumulation.standardDeviation)"
   ]
  },
  {
   "cell_type": "code",
   "execution_count": 20,
   "metadata": {},
   "outputs": [],
   "source": [
    "# 4.2\n",
    "# Create some lists that will be used to map elevation ranges to single numbers.\n",
    "# [min_elevation, max_elevation, new_value]\n",
    "values = [[accumulation.minimum, cutoff, 1],\n",
    "          [cutoff, accumulation.maximum, 0]]\n",
    "\n",
    "# Create a RemapRange using the data just created, and print it out.\n",
    "remap = arcpy.sa.RemapRange(values)\n",
    "\n",
    "\n",
    "reclass = arcpy.sa.Reclassify(accumulation, 'VALUE', remap)\n",
    "\n",
    "\n",
    "# 4.3\n",
    "import numpy as np\n",
    "\n",
    "# Load the accumulation raster into a numpy array called data.\n",
    "nump = arcpy.RasterToNumPyArray(reclass)\n",
    "# 4.4\n",
    "# Plot the masked data in grayscale.\n",
    "plt.imsave(flow_acuum_plot, nump, cmap='gray')"
   ]
  },
  {
   "cell_type": "code",
   "execution_count": null,
   "metadata": {},
   "outputs": [],
   "source": []
  }
 ],
 "metadata": {
  "kernelspec": {
   "display_name": "Python 3",
   "language": "python",
   "name": "python3"
  },
  "language_info": {
   "codemirror_mode": {
    "name": "ipython",
    "version": 3
   },
   "file_extension": ".py",
   "mimetype": "text/x-python",
   "name": "python",
   "nbconvert_exporter": "python",
   "pygments_lexer": "ipython3",
   "version": "3.7.11"
  }
 },
 "nbformat": 4,
 "nbformat_minor": 4
}
