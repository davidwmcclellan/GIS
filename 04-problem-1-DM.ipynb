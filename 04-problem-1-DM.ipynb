{
 "cells": [
  {
   "cell_type": "code",
   "execution_count": 5,
   "metadata": {},
   "outputs": [],
   "source": [
    "x = 25\n",
    "cutoff = 0.5\n",
    "count = 5"
   ]
  },
  {
   "cell_type": "code",
   "execution_count": 6,
   "metadata": {},
   "outputs": [
    {
     "name": "stdout",
     "output_type": "stream",
     "text": [
      "[0.376962302390386, 0.9267885077263207, 0.8434467391322422, 0.21404576995204339, 0.8717081122454375]\n"
     ]
    }
   ],
   "source": [
    "import math\n",
    "import random\n",
    "random.seed(x)\n",
    "\n",
    "# All_numbers = random.random()\n",
    "All_numbers = [random.random() for i in range(count)]\n",
    "# for i in range(count):\n",
    "print(All_numbers)"
   ]
  },
  {
   "cell_type": "code",
   "execution_count": 9,
   "metadata": {},
   "outputs": [
    {
     "name": "stdout",
     "output_type": "stream",
     "text": [
      "All numbers = [0.376962302390386, 0.9267885077263207, 0.8434467391322422, 0.21404576995204339, 0.8717081122454375]\n",
      "Big numbers = [0.9267885077263207, 0.8434467391322422, 0.8717081122454375]\n",
      "Small numbers = [0.376962302390386, 0.21404576995204339]\n"
     ]
    }
   ],
   "source": [
    "big_numbers = []\n",
    "small_numbers = []\n",
    "\n",
    "\n",
    "# [big_numbers.append(All_numbers) for i in range(count) if All_numbers > cutoff]\n",
    "for i in All_numbers:\n",
    "    if i > cutoff:\n",
    "        big_numbers.append(i)\n",
    "    else:\n",
    "        small_numbers.append(i)\n",
    "print('All numbers =', All_numbers)\n",
    "print('Big numbers =', big_numbers)\n",
    "print('Small numbers =', small_numbers)\n"
   ]
  }
 ],
 "metadata": {
  "kernelspec": {
   "display_name": "Python 3",
   "language": "python",
   "name": "python3"
  },
  "language_info": {
   "codemirror_mode": {
    "name": "ipython",
    "version": 3
   },
   "file_extension": ".py",
   "mimetype": "text/x-python",
   "name": "python",
   "nbconvert_exporter": "python",
   "pygments_lexer": "ipython3",
   "version": "3.7.11"
  }
 },
 "nbformat": 4,
 "nbformat_minor": 4
}
