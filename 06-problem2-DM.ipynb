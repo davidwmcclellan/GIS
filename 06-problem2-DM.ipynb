{
 "cells": [
  {
   "cell_type": "code",
   "execution_count": 19,
   "metadata": {},
   "outputs": [],
   "source": [
    "folder = r'C:\\Users\\dwmcclellan\\OneDrive - Fort Lewis College\\0-Fall 2021\\GEOG-315\\Lab-6\\data'\n",
    "srs = 'NAD_1983_UTM_Zone_12N'"
   ]
  },
  {
   "cell_type": "code",
   "execution_count": 20,
   "metadata": {},
   "outputs": [],
   "source": [
    "import arcpy\n",
    "\n",
    "arcpy.env.workspace = folder\n",
    "arcpy.env.overwriteOutput = True"
   ]
  },
  {
   "cell_type": "code",
   "execution_count": 21,
   "metadata": {},
   "outputs": [
    {
     "name": "stdout",
     "output_type": "stream",
     "text": [
      "['data1.shp', 'data2.shp', 'data3.shp', 'data4.shp']\n"
     ]
    }
   ],
   "source": [
    "point_list = arcpy.ListFeatureClasses(feature_type='Point')\n",
    "print(point_list)"
   ]
  },
  {
   "cell_type": "code",
   "execution_count": 22,
   "metadata": {},
   "outputs": [
    {
     "name": "stdout",
     "output_type": "stream",
     "text": [
      "C:\\Users\\dwmcclellan\\OneDrive - Fort Lewis College\\0-Fall 2021\\GEOG-315\\Lab-6\\data\\data1.shp\n",
      "C:\\Users\\dwmcclellan\\OneDrive - Fort Lewis College\\0-Fall 2021\\GEOG-315\\Lab-6\\data\\data3.shp\n",
      "C:\\Users\\dwmcclellan\\OneDrive - Fort Lewis College\\0-Fall 2021\\GEOG-315\\Lab-6\\data\\data4.shp\n",
      "FID\n",
      "Shape\n",
      "Id\n",
      "POINT_X\n",
      "POINT_Y\n"
     ]
    }
   ],
   "source": [
    "# arcpy.management.AddXY(in_features) \n",
    "\n",
    "# arcpy.Describe(p).spatialReference.name == srs:\n",
    "point_list = arcpy.ListFeatureClasses(feature_type='Point')\n",
    "for i in point_list:\n",
    "    if arcpy.Describe(i).spatialReference.name == srs:\n",
    "        xy = arcpy.AddXY_management(i)\n",
    "        print(xy)\n",
    "fields = arcpy.ListFields(xy)\n",
    "for field in fields:\n",
    "    print(field.name)\n",
    "    \n"
   ]
  },
  {
   "cell_type": "code",
   "execution_count": null,
   "metadata": {},
   "outputs": [],
   "source": []
  }
 ],
 "metadata": {
  "kernelspec": {
   "display_name": "Python 3",
   "language": "python",
   "name": "python3"
  },
  "language_info": {
   "codemirror_mode": {
    "name": "ipython",
    "version": 3
   },
   "file_extension": ".py",
   "mimetype": "text/x-python",
   "name": "python",
   "nbconvert_exporter": "python",
   "pygments_lexer": "ipython3",
   "version": "3.7.11"
  }
 },
 "nbformat": 4,
 "nbformat_minor": 4
}
